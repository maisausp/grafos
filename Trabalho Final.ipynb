{
 "cells": [
  {
   "cell_type": "code",
   "execution_count": 13,
   "metadata": {},
   "outputs": [],
   "source": [
    "import sqlite3\n"
   ]
  },
  {
   "cell_type": "markdown",
   "metadata": {},
   "source": [
    "O Banco de Dados em formato sqlite possuí a tabela SO_QUESTION que contém as colunas: "
   ]
  },
  {
   "cell_type": "code",
   "execution_count": 14,
   "metadata": {},
   "outputs": [],
   "source": [
    "conn = sqlite3.connect('dados/tags_database.db')\n",
    "cursor = conn.cursor()"
   ]
  },
  {
   "cell_type": "code",
   "execution_count": 20,
   "metadata": {},
   "outputs": [
    {
     "name": "stdout",
     "output_type": "stream",
     "text": [
      "('SO_QUESTION',)\n",
      "('SO_TAG',)\n",
      "('SO_QUESTION_TAG',)\n"
     ]
    }
   ],
   "source": [
    "cursor.execute('SELECT name FROM sqlite_master WHERE type=\\'table\\';')\n",
    "print (cursor.fetchone())\n",
    "print (cursor.fetchone())\n",
    "print (cursor.fetchone())"
   ]
  },
  {
   "cell_type": "code",
   "execution_count": 21,
   "metadata": {},
   "outputs": [
    {
     "name": "stdout",
     "output_type": "stream",
     "text": [
      "(('ID', None, None, None, None, None, None), ('SO_ID', None, None, None, None, None, None), ('OWNER_ID', None, None, None, None, None, None), ('CREATION_DATE', None, None, None, None, None, None))\n",
      "(1, '4', '8', '2008-07-31 21:42:52.667000')\n",
      "(2, '6', '9', '2008-07-31 22:08:08.620000')\n"
     ]
    }
   ],
   "source": [
    "\n",
    "cursor.execute('SELECT * FROM SO_QUESTION')\n",
    "row = cursor.fetchone()\n",
    "names = cursor.description\n",
    "print (names)\n",
    "print (row)\n",
    "row = cursor.fetchone()\n",
    "print (row)"
   ]
  },
  {
   "cell_type": "code",
   "execution_count": null,
   "metadata": {},
   "outputs": [],
   "source": []
  }
 ],
 "metadata": {
  "kernelspec": {
   "display_name": "Python 3",
   "language": "python",
   "name": "python3"
  },
  "language_info": {
   "codemirror_mode": {
    "name": "ipython",
    "version": 3
   },
   "file_extension": ".py",
   "mimetype": "text/x-python",
   "name": "python",
   "nbconvert_exporter": "python",
   "pygments_lexer": "ipython3",
   "version": "3.8.2"
  }
 },
 "nbformat": 4,
 "nbformat_minor": 4
}
