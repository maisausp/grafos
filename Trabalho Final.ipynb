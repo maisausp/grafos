{
 "cells": [
  {
   "cell_type": "code",
   "execution_count": 9,
   "metadata": {},
   "outputs": [],
   "source": [
    "import sqlite3\n"
   ]
  },
  {
   "cell_type": "code",
   "execution_count": 3,
   "metadata": {},
   "outputs": [],
   "source": [
    "conn = sqlite3.connect('dados/tags_database.db')\n",
    "cursor = conn.cursor()"
   ]
  },
  {
   "cell_type": "markdown",
   "metadata": {},
   "source": [
    "O Banco de Dados em formato sqlite possuí a tabela SO_QUESTION que contém as colunas: \n",
    "<img src=\"imagens/BD.png\" alt=\"drawing\" width=\"400\"/>\n",
    "\n",
    "As informações de cada tabela são:\n",
    "\n",
    "**SO_QUESTION** - *Stack Overflow Questions*:\n",
    "- ID: identificador da questão na base de dados\n",
    "- SO_ID: indentificador da questão no site do stackoverflow\n",
    "- OWNER_ID: ??\n",
    "- CREATION_DATE: data de criação da questão.\n",
    "\n",
    "**SO_TAG** - *Stack Overflow Tag*:\n",
    "- ID: indetificador da tag na base de dados\n",
    "- SO_ID: indetificador da tag no site do stackoverflow\n",
    "\n",
    "**SO_QUESTION_TAG** - Tabela de relacionamento NxN de questões e tags\n",
    "- ID: identificador do relacionamento\n",
    "- Q_ID: identificador da questão na base de dados\n",
    "- TAG_ID: identificador da tag na base de dados\n"
   ]
  },
  {
   "cell_type": "code",
   "execution_count": 4,
   "metadata": {},
   "outputs": [
    {
     "name": "stdout",
     "output_type": "stream",
     "text": [
      "('SO_QUESTION',)\n",
      "('SO_TAG',)\n",
      "('SO_QUESTION_TAG',)\n"
     ]
    }
   ],
   "source": [
    "cursor.execute('SELECT name FROM sqlite_master WHERE type=\\'table\\';')\n",
    "print (cursor.fetchone())\n",
    "print (cursor.fetchone())\n",
    "print (cursor.fetchone())"
   ]
  },
  {
   "cell_type": "code",
   "execution_count": 6,
   "metadata": {},
   "outputs": [
    {
     "name": "stdout",
     "output_type": "stream",
     "text": [
      "(('ID', None, None, None, None, None, None), ('SO_ID', None, None, None, None, None, None), ('OWNER_ID', None, None, None, None, None, None), ('CREATION_DATE', None, None, None, None, None, None))\n",
      "(1, '4', '8', '2008-07-31 21:42:52.667000')\n",
      "(2, '6', '9', '2008-07-31 22:08:08.620000')\n"
     ]
    }
   ],
   "source": [
    "\n",
    "cursor.execute('SELECT * FROM SO_QUESTION')\n",
    "row = cursor.fetchone()\n",
    "names = cursor.description\n",
    "print (names)\n",
    "print (row)\n",
    "row = cursor.fetchone()\n",
    "print (row)"
   ]
  },
  {
   "cell_type": "code",
   "execution_count": 7,
   "metadata": {},
   "outputs": [
    {
     "name": "stdout",
     "output_type": "stream",
     "text": [
      "(('ID', None, None, None, None, None, None), ('SO_ID', None, None, None, None, None, None))\n",
      "(1, 'c#')\n",
      "(2, 'floating-point')\n"
     ]
    }
   ],
   "source": [
    "\n",
    "cursor.execute('SELECT * FROM SO_TAG')\n",
    "row = cursor.fetchone()\n",
    "names = cursor.description\n",
    "print (names)\n",
    "print (row)\n",
    "row = cursor.fetchone()\n",
    "print (row)"
   ]
  },
  {
   "cell_type": "code",
   "execution_count": 8,
   "metadata": {},
   "outputs": [
    {
     "name": "stdout",
     "output_type": "stream",
     "text": [
      "(('ID', None, None, None, None, None, None), ('Q_ID', None, None, None, None, None, None), ('TAG_ID', None, None, None, None, None, None))\n",
      "(1, 1, 1)\n",
      "(2, 1, 2)\n"
     ]
    }
   ],
   "source": [
    "\n",
    "cursor.execute('SELECT * FROM SO_QUESTION_TAG')\n",
    "row = cursor.fetchone()\n",
    "names = cursor.description\n",
    "print (names)\n",
    "print (row)\n",
    "row = cursor.fetchone()\n",
    "print (row)"
   ]
  },
  {
   "cell_type": "code",
   "execution_count": null,
   "metadata": {},
   "outputs": [],
   "source": []
  },
  {
   "cell_type": "code",
   "execution_count": null,
   "metadata": {},
   "outputs": [],
   "source": []
  }
 ],
 "metadata": {
  "kernelspec": {
   "display_name": "Python 3",
   "language": "python",
   "name": "python3"
  },
  "language_info": {
   "codemirror_mode": {
    "name": "ipython",
    "version": 3
   },
   "file_extension": ".py",
   "mimetype": "text/x-python",
   "name": "python",
   "nbconvert_exporter": "python",
   "pygments_lexer": "ipython3",
   "version": "3.8.2"
  }
 },
 "nbformat": 4,
 "nbformat_minor": 4
}
