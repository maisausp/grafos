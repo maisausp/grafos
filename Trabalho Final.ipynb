{
 "cells": [
  {
   "cell_type": "code",
   "execution_count": 1,
   "metadata": {},
   "outputs": [],
   "source": [
    "import sqlite3\n",
    "import networkx as nx\n",
    "import matplotlib.pyplot as plt\n",
    "import pandas as pd"
   ]
  },
  {
   "cell_type": "markdown",
   "metadata": {},
   "source": [
    "O Banco de Dados em formato sqlite possuí a tabela SO_QUESTION que contém as colunas: \n",
    "<img src=\"imagens/BD.png\" alt=\"drawing\" width=\"400\"/>\n",
    "\n",
    "As informações de cada tabela são:\n",
    "\n",
    "**SO_QUESTION** - *Stack Overflow Questions*:\n",
    "- ID: identificador da questão na base de dados\n",
    "- SO_ID: indentificador da questão no site do stackoverflow\n",
    "- OWNER_ID: ??\n",
    "- CREATION_DATE: data de criação da questão.\n",
    "\n",
    "**SO_TAG** - *Stack Overflow Tag*:\n",
    "- ID: indetificador da tag na base de dados\n",
    "- SO_ID: indetificador da tag no site do stackoverflow\n",
    "\n",
    "**SO_QUESTION_TAG** - Tabela de relacionamento NxN de questões e tags\n",
    "- ID: identificador do relacionamento\n",
    "- Q_ID: identificador da questão na base de dados\n",
    "- TAG_ID: identificador da tag na base de dados\n"
   ]
  },
  {
   "cell_type": "markdown",
   "metadata": {},
   "source": [
    "# Tratamento dos Dados, formato nó e link."
   ]
  },
  {
   "cell_type": "code",
   "execution_count": 2,
   "metadata": {},
   "outputs": [],
   "source": [
    "conn = sqlite3.connect('dados/grafo.db', timeout=10)\n",
    "cursor_grafo = conn.cursor()\n",
    "\n",
    "cursor_grafo.execute('''DROP TABLE NODE''');\n",
    "cursor_grafo.execute('''CREATE TABLE NODE\n",
    "             ([ID] INTEGER PRIMARY KEY,[NAME] text, [SIZE] integer)''')\n",
    "\n",
    "cursor_grafo.execute('''DROP TABLE LINK''');\n",
    "cursor_grafo.execute('''CREATE TABLE LINK\n",
    "             ([ID] INTEGER PRIMARY KEY,[SOURCE] text, [TARGET] text, [SIZE] integer)''')\n",
    "\n",
    "conn.commit()"
   ]
  },
  {
   "cell_type": "code",
   "execution_count": null,
   "metadata": {},
   "outputs": [
    {
     "name": "stdout",
     "output_type": "stream",
     "text": [
      "Total rows are:   46431\n",
      "Progresso:  0\n",
      "--- 27.044936895370483 seconds total ---\n",
      "--- 0.0014488697052001953 seconds lote ---\n",
      "Progresso:  100\n",
      "--- 155.43002939224243 seconds total ---\n",
      "--- 0.00010061264038085938 seconds lote ---\n",
      "Progresso:  200\n",
      "--- 287.7208411693573 seconds total ---\n",
      "--- 0.00011563301086425781 seconds lote ---\n",
      "Progresso:  300\n",
      "--- 442.2576913833618 seconds total ---\n",
      "--- 0.00010514259338378906 seconds lote ---\n",
      "Progresso:  400\n",
      "--- 606.0511319637299 seconds total ---\n",
      "--- 0.00016880035400390625 seconds lote ---\n",
      "Progresso:  500\n",
      "--- 772.8132600784302 seconds total ---\n",
      "--- 0.00037479400634765625 seconds lote ---\n",
      "Progresso:  600\n",
      "--- 914.8979318141937 seconds total ---\n",
      "--- 0.00040340423583984375 seconds lote ---\n",
      "Progresso:  700\n",
      "--- 1085.354008436203 seconds total ---\n",
      "--- 0.00019311904907226562 seconds lote ---\n"
     ]
    }
   ],
   "source": [
    "# Insere Nós e Tamanho do nó.\n",
    "# Percorrer tabela de Tags E fazer count na tabela de relacionamento\n",
    "conn = sqlite3.connect('dados/grafo.db', timeout=10)\n",
    "cursor_grafo = conn.cursor()\n",
    "\n",
    "conn = sqlite3.connect('dados/tags_database.db', timeout=10)\n",
    "cursor_so = conn.cursor()\n",
    "\n",
    "# Select das tags\n",
    "query = \"\"\"SELECT * from SO_TAG\"\"\"\n",
    "cursor_so.execute(query)\n",
    "rows = cursor_so.fetchall()\n",
    "total = len(rows)\n",
    "print(\"Total rows are:  \", total)\n",
    "\n",
    "import time\n",
    "\n",
    "start_time_total = time.time()\n",
    "\n",
    "\n",
    "max_id = 0;\n",
    "i = 0\n",
    "links_processados = 0;\n",
    "for row in rows:\n",
    "    \n",
    "    tag_id = row[0]\n",
    "    tag_so_id = row[1]\n",
    "    #print(\"Id: \", tag_id)\n",
    "    #print(\"SO_ID: \", tag_so_id) \n",
    "    query = \"\"\"SELECT COUNT(ID) from SO_QUESTION_TAG WHERE TAG_ID = \"\"\" + str(tag_id);\n",
    "    cursor_so.execute(query)    \n",
    "    size = cursor_so.fetchone()[0];\n",
    "    #query = \"\"\"DELETE from SO_QUESTION_TAG WHERE TAG_ID = \"\"\" + str(tag_id);\n",
    "    #cursor_so.execute(query)\n",
    "    #size = cursor_so.rowcount;\n",
    "    #print(\"Size: \", size)     \n",
    "    links_processados = links_processados + size;\n",
    "    if size > 10000:\n",
    "        sql = ''' INSERT INTO NODE(ID,NAME,SIZE) VALUES(?,?,?) '''\n",
    "        node = (tag_id, tag_so_id, size)\n",
    "        cursor_grafo.execute(sql, node)\n",
    "    \n",
    "    if(i % 100 == 0):        \n",
    "        start_time_lote = time.time()\n",
    "        print(\"Progresso: \", i)\n",
    "        print(\"--- %s seconds total ---\" % (time.time() - start_time_total))\n",
    "        print(\"--- %s seconds lote ---\" % (time.time() - start_time_lote))\n",
    "        if(i > 18000):\n",
    "            break;\n",
    "    i = i + 1\n",
    "    #if i == 10:\n",
    "    #    break;\n",
    "cursor_grafo.close()\n",
    "cursor_so.close()"
   ]
  },
  {
   "cell_type": "code",
   "execution_count": 12,
   "metadata": {},
   "outputs": [],
   "source": [
    "cursor_grafo.close()\n",
    "cursor_so.close()"
   ]
  },
  {
   "cell_type": "code",
   "execution_count": null,
   "metadata": {},
   "outputs": [],
   "source": []
  }
 ],
 "metadata": {
  "kernelspec": {
   "display_name": "Python 3",
   "language": "python",
   "name": "python3"
  },
  "language_info": {
   "codemirror_mode": {
    "name": "ipython",
    "version": 3
   },
   "file_extension": ".py",
   "mimetype": "text/x-python",
   "name": "python",
   "nbconvert_exporter": "python",
   "pygments_lexer": "ipython3",
   "version": "3.8.2"
  }
 },
 "nbformat": 4,
 "nbformat_minor": 4
}
